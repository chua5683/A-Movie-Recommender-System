{
 "cells": [
  {
   "cell_type": "markdown",
   "metadata": {},
   "source": [
    "## Getting data from TMDB"
   ]
  },
  {
   "cell_type": "code",
   "execution_count": null,
   "metadata": {},
   "outputs": [],
   "source": [
    "%run metadata_scraper.py"
   ]
  },
  {
   "cell_type": "code",
   "execution_count": null,
   "metadata": {},
   "outputs": [],
   "source": [
    "%run credits_scraper.py"
   ]
  },
  {
   "cell_type": "code",
   "execution_count": null,
   "metadata": {},
   "outputs": [],
   "source": [
    "%run keywords_scraper.py"
   ]
  },
  {
   "cell_type": "markdown",
   "metadata": {},
   "source": [
    "## Convert JSON to CSV "
   ]
  },
  {
   "cell_type": "code",
   "execution_count": 1,
   "metadata": {},
   "outputs": [],
   "source": [
    "import json\n",
    "import csv\n",
    "from pprint import pprint"
   ]
  },
  {
   "cell_type": "code",
   "execution_count": 4,
   "metadata": {},
   "outputs": [
    {
     "name": "stdout",
     "output_type": "stream",
     "text": [
      "[{'id': 862,\n",
      "  'keywords': [{'id': 779, 'name': 'martial arts'},\n",
      "               {'id': 931, 'name': 'jealousy'},\n",
      "               {'id': 4290, 'name': 'toy'},\n",
      "               {'id': 5202, 'name': 'boy'},\n",
      "               {'id': 6054, 'name': 'friendship'},\n",
      "               {'id': 6733, 'name': 'bullying'},\n",
      "               {'id': 8102, 'name': 'elementary school'},\n",
      "               {'id': 9713, 'name': 'friends'},\n",
      "               {'id': 9823, 'name': 'rivalry'},\n",
      "               {'id': 10084, 'name': 'rescue'},\n",
      "               {'id': 10364, 'name': 'mission'},\n",
      "               {'id': 33553, 'name': 'walkie talkie'},\n",
      "               {'id': 165503, 'name': 'boy next door'},\n",
      "               {'id': 170722, 'name': 'new toy'},\n",
      "               {'id': 180523, 'name': 'neighborhood'},\n",
      "               {'id': 187065, 'name': 'toy comes to life'},\n",
      "               {'id': 242792, 'name': 'resourcefulness'}]},\n",
      " {'id': 8844,\n",
      "  'keywords': [{'id': 7035, 'name': 'giant insect'},\n",
      "               {'id': 10090, 'name': 'board game'},\n",
      "               {'id': 10941, 'name': 'disappearance'},\n",
      "               {'id': 33467, 'name': 'new home'},\n",
      "               {'id': 158086, 'name': 'recluse'},\n",
      "               {'id': 246466, 'name': 'based on young adult novel'}]},\n",
      " {'id': 15602,\n",
      "  'keywords': [{'id': 1495, 'name': 'fishing'},\n",
      "               {'id': 10938, 'name': 'old man'},\n",
      "               {'id': 12392, 'name': 'best friend'},\n",
      "               {'id': 179431, 'name': 'duringcreditsstinger'}]}]\n"
     ]
    }
   ],
   "source": [
    "with open('json_data_example.json') as f:\n",
    "    data = json.load(f)\n",
    "\n",
    "pprint(data)"
   ]
  },
  {
   "cell_type": "code",
   "execution_count": 7,
   "metadata": {},
   "outputs": [],
   "source": [
    "with open('json_data_example.json') as x:\n",
    "    x = json.load(x)\n",
    "\n",
    "f = csv.writer(open(\"data.csv\", \"w\"))\n",
    "\n",
    "# Write CSV Header, If you dont need that, remove this line\n",
    "# f.writerow(x.keys())\n",
    "header = False\n",
    "for x in x:\n",
    "    if not header:\n",
    "        f.writerow(x.keys())\n",
    "        header = True\n",
    "    if x:\n",
    "        f.writerow([x[key] for key in x.keys()])"
   ]
  },
  {
   "cell_type": "code",
   "execution_count": 6,
   "metadata": {},
   "outputs": [],
   "source": []
  },
  {
   "cell_type": "code",
   "execution_count": 7,
   "metadata": {},
   "outputs": [],
   "source": []
  },
  {
   "cell_type": "code",
   "execution_count": 3,
   "metadata": {},
   "outputs": [],
   "source": [
    "with open('data/keywords_metadata.json') as x:\n",
    "    x = json.load(x)\n",
    "\n",
    "f = csv.writer(open(\"data/keywords.csv\", \"w\"))\n",
    "\n",
    "# Write CSV Header, If you dont need that, remove this line\n",
    "f.writerow([\"id\", \"keywords\"])\n",
    "\n",
    "for x in x:\n",
    "    if x and 'id' in x:\n",
    "        f.writerow([x['id'], x['keywords']])"
   ]
  },
  {
   "cell_type": "code",
   "execution_count": 9,
   "metadata": {},
   "outputs": [],
   "source": [
    "with open('data/movies_metadata.json') as x:\n",
    "    x = json.load(x)\n",
    "\n",
    "f = csv.writer(open(\"data/movies_metadata.csv\", \"w\"))\n",
    "\n",
    "header = False\n",
    "for x in x:\n",
    "    if not header:\n",
    "        f.writerow(x.keys())\n",
    "        header = True\n",
    "    if x:\n",
    "        f.writerow([x[key] for key in x.keys()])"
   ]
  },
  {
   "cell_type": "code",
   "execution_count": 12,
   "metadata": {},
   "outputs": [],
   "source": [
    "with open('data/credits_metadata.json') as x:\n",
    "    x = json.load(x)\n",
    "\n",
    "f = csv.writer(open(\"data/credits.csv\", \"w\"))\n",
    "\n",
    "header = False\n",
    "for x in x:\n",
    "    if not header:\n",
    "        f.writerow(x.keys())\n",
    "        header = True\n",
    "    if x:\n",
    "        f.writerow([x[key] for key in x.keys()])"
   ]
  },
  {
   "cell_type": "code",
   "execution_count": null,
   "metadata": {},
   "outputs": [],
   "source": []
  },
  {
   "cell_type": "code",
   "execution_count": null,
   "metadata": {},
   "outputs": [],
   "source": []
  },
  {
   "cell_type": "code",
   "execution_count": null,
   "metadata": {},
   "outputs": [],
   "source": []
  },
  {
   "cell_type": "code",
   "execution_count": null,
   "metadata": {},
   "outputs": [],
   "source": []
  }
 ],
 "metadata": {
  "kernelspec": {
   "display_name": "Python 3",
   "language": "python",
   "name": "python3"
  },
  "language_info": {
   "codemirror_mode": {
    "name": "ipython",
    "version": 3
   },
   "file_extension": ".py",
   "mimetype": "text/x-python",
   "name": "python",
   "nbconvert_exporter": "python",
   "pygments_lexer": "ipython3",
   "version": "3.6.5"
  }
 },
 "nbformat": 4,
 "nbformat_minor": 2
}
