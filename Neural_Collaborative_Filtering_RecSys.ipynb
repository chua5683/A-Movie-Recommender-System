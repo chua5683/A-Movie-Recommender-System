{
 "cells": [
  {
   "cell_type": "markdown",
   "metadata": {},
   "source": [
    "## Neural Collaborative Filtering\n",
    "Reference:\n",
    "* Paper: Xiangnan He, Lizi Liao, Hanwang Zhang, Liqiang Nie, Xia Hu and Tat-Seng Chua (2017) https://arxiv.org/abs/1708.05031\n",
    "* Code with the paper: https://github.com/hexiangnan/neural_collaborative_filtering\n",
    "\n",
    "Here I implemented their ideas using Keras with tensorflow backend on a smaller MovieLens 100K dataset."
   ]
  },
  {
   "cell_type": "code",
   "execution_count": 1,
   "metadata": {},
   "outputs": [
    {
     "name": "stderr",
     "output_type": "stream",
     "text": [
      "Using TensorFlow backend.\n"
     ]
    }
   ],
   "source": [
    "import pandas as pd\n",
    "import numpy as np\n",
    "import matplotlib.pyplot as plt\n",
    "from sklearn.model_selection import train_test_split\n",
    "from sklearn.metrics import mean_squared_error\n",
    "from math import sqrt\n",
    "import keras\n",
    "from keras.layers import Input, Embedding, Dropout, Flatten, concatenate, dot, BatchNormalization, Dense\n",
    "from keras import Model\n",
    "\n",
    "import warnings\n",
    "warnings.filterwarnings('ignore')\n",
    "\n",
    "%matplotlib inline"
   ]
  },
  {
   "cell_type": "code",
   "execution_count": 2,
   "metadata": {},
   "outputs": [],
   "source": [
    "ratings = pd.read_csv('data/ratings_small.csv')\n",
    "movies = pd.read_csv('data/movies_small.csv')"
   ]
  },
  {
   "cell_type": "code",
   "execution_count": 3,
   "metadata": {},
   "outputs": [
    {
     "name": "stdout",
     "output_type": "stream",
     "text": [
      "Number of users = 610 | Number of movies = 9724\n"
     ]
    }
   ],
   "source": [
    "n_users = ratings.userId.unique().shape[0]\n",
    "n_movies = ratings.movieId.unique().shape[0]\n",
    "print('Number of users = ' + str(n_users) + ' | Number of movies = ' + str(n_movies))"
   ]
  },
  {
   "cell_type": "code",
   "execution_count": 4,
   "metadata": {},
   "outputs": [],
   "source": [
    "# assign a unique number between (0, #users) to each user and do the same for movies\n",
    "ratings.userId = ratings.userId.astype('category').cat.codes.values\n",
    "ratings.movieId = ratings.movieId.astype('category').cat.codes.values"
   ]
  },
  {
   "cell_type": "code",
   "execution_count": 5,
   "metadata": {},
   "outputs": [],
   "source": [
    "train, test = train_test_split(ratings, test_size=0.2)"
   ]
  },
  {
   "cell_type": "code",
   "execution_count": 6,
   "metadata": {},
   "outputs": [
    {
     "data": {
      "text/html": [
       "<div>\n",
       "<style scoped>\n",
       "    .dataframe tbody tr th:only-of-type {\n",
       "        vertical-align: middle;\n",
       "    }\n",
       "\n",
       "    .dataframe tbody tr th {\n",
       "        vertical-align: top;\n",
       "    }\n",
       "\n",
       "    .dataframe thead th {\n",
       "        text-align: right;\n",
       "    }\n",
       "</style>\n",
       "<table border=\"1\" class=\"dataframe\">\n",
       "  <thead>\n",
       "    <tr style=\"text-align: right;\">\n",
       "      <th></th>\n",
       "      <th>userId</th>\n",
       "      <th>movieId</th>\n",
       "      <th>rating</th>\n",
       "      <th>timestamp</th>\n",
       "    </tr>\n",
       "  </thead>\n",
       "  <tbody>\n",
       "    <tr>\n",
       "      <th>18202</th>\n",
       "      <td>114</td>\n",
       "      <td>1287</td>\n",
       "      <td>4.0</td>\n",
       "      <td>957647369</td>\n",
       "    </tr>\n",
       "    <tr>\n",
       "      <th>65102</th>\n",
       "      <td>415</td>\n",
       "      <td>906</td>\n",
       "      <td>4.0</td>\n",
       "      <td>1187497538</td>\n",
       "    </tr>\n",
       "    <tr>\n",
       "      <th>57229</th>\n",
       "      <td>379</td>\n",
       "      <td>2093</td>\n",
       "      <td>4.0</td>\n",
       "      <td>1493474361</td>\n",
       "    </tr>\n",
       "    <tr>\n",
       "      <th>24874</th>\n",
       "      <td>175</td>\n",
       "      <td>253</td>\n",
       "      <td>3.0</td>\n",
       "      <td>840108793</td>\n",
       "    </tr>\n",
       "    <tr>\n",
       "      <th>24058</th>\n",
       "      <td>166</td>\n",
       "      <td>97</td>\n",
       "      <td>3.5</td>\n",
       "      <td>1154721971</td>\n",
       "    </tr>\n",
       "  </tbody>\n",
       "</table>\n",
       "</div>"
      ],
      "text/plain": [
       "       userId  movieId  rating   timestamp\n",
       "18202     114     1287     4.0   957647369\n",
       "65102     415      906     4.0  1187497538\n",
       "57229     379     2093     4.0  1493474361\n",
       "24874     175      253     3.0   840108793\n",
       "24058     166       97     3.5  1154721971"
      ]
     },
     "execution_count": 6,
     "metadata": {},
     "output_type": "execute_result"
    }
   ],
   "source": [
    "train.head()"
   ]
  },
  {
   "cell_type": "code",
   "execution_count": 7,
   "metadata": {},
   "outputs": [
    {
     "data": {
      "text/html": [
       "<div>\n",
       "<style scoped>\n",
       "    .dataframe tbody tr th:only-of-type {\n",
       "        vertical-align: middle;\n",
       "    }\n",
       "\n",
       "    .dataframe tbody tr th {\n",
       "        vertical-align: top;\n",
       "    }\n",
       "\n",
       "    .dataframe thead th {\n",
       "        text-align: right;\n",
       "    }\n",
       "</style>\n",
       "<table border=\"1\" class=\"dataframe\">\n",
       "  <thead>\n",
       "    <tr style=\"text-align: right;\">\n",
       "      <th></th>\n",
       "      <th>userId</th>\n",
       "      <th>movieId</th>\n",
       "      <th>rating</th>\n",
       "      <th>timestamp</th>\n",
       "    </tr>\n",
       "  </thead>\n",
       "  <tbody>\n",
       "    <tr>\n",
       "      <th>23744</th>\n",
       "      <td>162</td>\n",
       "      <td>1208</td>\n",
       "      <td>4.0</td>\n",
       "      <td>894217570</td>\n",
       "    </tr>\n",
       "    <tr>\n",
       "      <th>92857</th>\n",
       "      <td>598</td>\n",
       "      <td>483</td>\n",
       "      <td>3.5</td>\n",
       "      <td>1498500822</td>\n",
       "    </tr>\n",
       "    <tr>\n",
       "      <th>15234</th>\n",
       "      <td>97</td>\n",
       "      <td>8676</td>\n",
       "      <td>5.0</td>\n",
       "      <td>1532457746</td>\n",
       "    </tr>\n",
       "    <tr>\n",
       "      <th>12840</th>\n",
       "      <td>81</td>\n",
       "      <td>2248</td>\n",
       "      <td>3.5</td>\n",
       "      <td>1084468057</td>\n",
       "    </tr>\n",
       "    <tr>\n",
       "      <th>66117</th>\n",
       "      <td>424</td>\n",
       "      <td>3633</td>\n",
       "      <td>4.5</td>\n",
       "      <td>1085490522</td>\n",
       "    </tr>\n",
       "  </tbody>\n",
       "</table>\n",
       "</div>"
      ],
      "text/plain": [
       "       userId  movieId  rating   timestamp\n",
       "23744     162     1208     4.0   894217570\n",
       "92857     598      483     3.5  1498500822\n",
       "15234      97     8676     5.0  1532457746\n",
       "12840      81     2248     3.5  1084468057\n",
       "66117     424     3633     4.5  1085490522"
      ]
     },
     "execution_count": 7,
     "metadata": {},
     "output_type": "execute_result"
    }
   ],
   "source": [
    "test.head()"
   ]
  },
  {
   "cell_type": "code",
   "execution_count": 8,
   "metadata": {},
   "outputs": [],
   "source": [
    "y_rating = test.rating"
   ]
  },
  {
   "cell_type": "markdown",
   "metadata": {},
   "source": [
    "#### Construct the model"
   ]
  },
  {
   "cell_type": "code",
   "execution_count": 9,
   "metadata": {},
   "outputs": [],
   "source": [
    "n_latent_factors_user = 8\n",
    "n_latent_factors_movie = 10\n",
    "n_latent_factors_mf = 3"
   ]
  },
  {
   "cell_type": "code",
   "execution_count": 10,
   "metadata": {},
   "outputs": [],
   "source": [
    "movie_input = Input(shape=[1],name='Item')\n",
    "movie_embedding_mlp = Embedding(n_movies + 1, n_latent_factors_movie, name='Movie-Embedding-MLP')(movie_input)\n",
    "movie_vec_mlp = Flatten(name='FlattenMovies-MLP')(movie_embedding_mlp)\n",
    "movie_vec_mlp = Dropout(0.2)(movie_vec_mlp)\n",
    "\n",
    "movie_embedding_mf = Embedding(n_movies + 1, n_latent_factors_mf, name='Movie-Embedding-MF')(movie_input)\n",
    "movie_vec_mf = Flatten(name='FlattenMovies-MF')(movie_embedding_mf)\n",
    "movie_vec_mf = Dropout(0.2)(movie_vec_mf)\n",
    "\n",
    "\n",
    "user_input = Input(shape=[1],name='User')\n",
    "user_vec_mlp = Flatten(name='FlattenUsers-MLP')(Embedding(n_users + 1, n_latent_factors_user,name='User-Embedding-MLP')(user_input))\n",
    "user_vec_mlp = Dropout(0.2)(user_vec_mlp)\n",
    "\n",
    "user_vec_mf = Flatten(name='FlattenUsers-MF')(Embedding(n_users + 1, n_latent_factors_mf,name='User-Embedding-MF')(user_input))\n",
    "user_vec_mf = Dropout(0.2)(user_vec_mf)\n",
    "\n",
    "\n",
    "concat = concatenate([movie_vec_mlp, user_vec_mlp], name='Concat')\n",
    "concat_dropout = Dropout(0.2)(concat)\n",
    "dense = Dense(200,name='FullyConnected')(concat_dropout)\n",
    "dense_batch = BatchNormalization(name='Batch')(dense)\n",
    "dropout_1 = Dropout(0.2,name='Dropout-1')(dense_batch)\n",
    "dense_2 = Dense(100,name='FullyConnected-1')(dropout_1)\n",
    "dense_batch_2 = BatchNormalization(name='Batch-2')(dense_2)\n",
    "dropout_2 = Dropout(0.2,name='Dropout-2')(dense_batch_2)\n",
    "dense_3 = Dense(50,name='FullyConnected-2')(dropout_2)\n",
    "dense_4 = Dense(20,name='FullyConnected-3', activation='relu')(dense_3)\n",
    "\n",
    "pred_mf = dot([movie_vec_mf, user_vec_mf], axes = -1, name='Dot')\n",
    "\n",
    "\n",
    "pred_mlp = Dense(1, activation='relu',name='Activation')(dense_4)\n",
    "\n",
    "combine_mlp_mf = concatenate([pred_mf, pred_mlp], name='Concat-MF-MLP')\n",
    "result_combine = Dense(100,name='Combine-MF-MLP')(combine_mlp_mf)\n",
    "deep_combine = Dense(100,name='FullyConnected-4')(result_combine)\n",
    "\n",
    "\n",
    "result = Dense(1, activation='relu', name='Prediction')(deep_combine)\n",
    "\n",
    "\n",
    "model = Model([user_input, movie_input], result)\n",
    "# opt = keras.optimizers.Adam(lr =0.01)\n",
    "model.compile(optimizer='adam',loss= 'mean_squared_error')"
   ]
  },
  {
   "cell_type": "code",
   "execution_count": 11,
   "metadata": {},
   "outputs": [
    {
     "name": "stdout",
     "output_type": "stream",
     "text": [
      "__________________________________________________________________________________________________\n",
      "Layer (type)                    Output Shape         Param #     Connected to                     \n",
      "==================================================================================================\n",
      "Item (InputLayer)               (None, 1)            0                                            \n",
      "__________________________________________________________________________________________________\n",
      "User (InputLayer)               (None, 1)            0                                            \n",
      "__________________________________________________________________________________________________\n",
      "Movie-Embedding-MLP (Embedding) (None, 1, 10)        97250       Item[0][0]                       \n",
      "__________________________________________________________________________________________________\n",
      "User-Embedding-MLP (Embedding)  (None, 1, 8)         4888        User[0][0]                       \n",
      "__________________________________________________________________________________________________\n",
      "FlattenMovies-MLP (Flatten)     (None, 10)           0           Movie-Embedding-MLP[0][0]        \n",
      "__________________________________________________________________________________________________\n",
      "FlattenUsers-MLP (Flatten)      (None, 8)            0           User-Embedding-MLP[0][0]         \n",
      "__________________________________________________________________________________________________\n",
      "dropout_1 (Dropout)             (None, 10)           0           FlattenMovies-MLP[0][0]          \n",
      "__________________________________________________________________________________________________\n",
      "dropout_3 (Dropout)             (None, 8)            0           FlattenUsers-MLP[0][0]           \n",
      "__________________________________________________________________________________________________\n",
      "Concat (Concatenate)            (None, 18)           0           dropout_1[0][0]                  \n",
      "                                                                 dropout_3[0][0]                  \n",
      "__________________________________________________________________________________________________\n",
      "dropout_5 (Dropout)             (None, 18)           0           Concat[0][0]                     \n",
      "__________________________________________________________________________________________________\n",
      "FullyConnected (Dense)          (None, 200)          3800        dropout_5[0][0]                  \n",
      "__________________________________________________________________________________________________\n",
      "Batch (BatchNormalization)      (None, 200)          800         FullyConnected[0][0]             \n",
      "__________________________________________________________________________________________________\n",
      "Dropout-1 (Dropout)             (None, 200)          0           Batch[0][0]                      \n",
      "__________________________________________________________________________________________________\n",
      "FullyConnected-1 (Dense)        (None, 100)          20100       Dropout-1[0][0]                  \n",
      "__________________________________________________________________________________________________\n",
      "Batch-2 (BatchNormalization)    (None, 100)          400         FullyConnected-1[0][0]           \n",
      "__________________________________________________________________________________________________\n",
      "Movie-Embedding-MF (Embedding)  (None, 1, 3)         29175       Item[0][0]                       \n",
      "__________________________________________________________________________________________________\n",
      "User-Embedding-MF (Embedding)   (None, 1, 3)         1833        User[0][0]                       \n",
      "__________________________________________________________________________________________________\n",
      "Dropout-2 (Dropout)             (None, 100)          0           Batch-2[0][0]                    \n",
      "__________________________________________________________________________________________________\n",
      "FlattenMovies-MF (Flatten)      (None, 3)            0           Movie-Embedding-MF[0][0]         \n",
      "__________________________________________________________________________________________________\n",
      "FlattenUsers-MF (Flatten)       (None, 3)            0           User-Embedding-MF[0][0]          \n",
      "__________________________________________________________________________________________________\n",
      "FullyConnected-2 (Dense)        (None, 50)           5050        Dropout-2[0][0]                  \n",
      "__________________________________________________________________________________________________\n",
      "dropout_2 (Dropout)             (None, 3)            0           FlattenMovies-MF[0][0]           \n",
      "__________________________________________________________________________________________________\n",
      "dropout_4 (Dropout)             (None, 3)            0           FlattenUsers-MF[0][0]            \n",
      "__________________________________________________________________________________________________\n",
      "FullyConnected-3 (Dense)        (None, 20)           1020        FullyConnected-2[0][0]           \n",
      "__________________________________________________________________________________________________\n",
      "Dot (Dot)                       (None, 1)            0           dropout_2[0][0]                  \n",
      "                                                                 dropout_4[0][0]                  \n",
      "__________________________________________________________________________________________________\n",
      "Activation (Dense)              (None, 1)            21          FullyConnected-3[0][0]           \n",
      "__________________________________________________________________________________________________\n",
      "Concat-MF-MLP (Concatenate)     (None, 2)            0           Dot[0][0]                        \n",
      "                                                                 Activation[0][0]                 \n",
      "__________________________________________________________________________________________________\n",
      "Combine-MF-MLP (Dense)          (None, 100)          300         Concat-MF-MLP[0][0]              \n",
      "__________________________________________________________________________________________________\n",
      "FullyConnected-4 (Dense)        (None, 100)          10100       Combine-MF-MLP[0][0]             \n",
      "__________________________________________________________________________________________________\n",
      "Prediction (Dense)              (None, 1)            101         FullyConnected-4[0][0]           \n",
      "==================================================================================================\n",
      "Total params: 174,838\n",
      "Trainable params: 174,238\n",
      "Non-trainable params: 600\n",
      "__________________________________________________________________________________________________\n"
     ]
    }
   ],
   "source": [
    "model.summary()"
   ]
  },
  {
   "cell_type": "code",
   "execution_count": 12,
   "metadata": {},
   "outputs": [
    {
     "name": "stdout",
     "output_type": "stream",
     "text": [
      "Train on 72601 samples, validate on 8067 samples\n",
      "Epoch 1/20\n",
      "72601/72601 [==============================] - 44s 613us/step - loss: 1.1320 - val_loss: 0.9555\n",
      "Epoch 2/20\n",
      "72601/72601 [==============================] - 38s 522us/step - loss: 0.8796 - val_loss: 0.8161\n",
      "Epoch 3/20\n",
      "72601/72601 [==============================] - 38s 525us/step - loss: 0.7742 - val_loss: 0.8068\n",
      "Epoch 4/20\n",
      "72601/72601 [==============================] - 37s 508us/step - loss: 0.7196 - val_loss: 0.7938\n",
      "Epoch 5/20\n",
      "72601/72601 [==============================] - 37s 511us/step - loss: 0.6846 - val_loss: 0.7763\n",
      "Epoch 6/20\n",
      "72601/72601 [==============================] - 37s 509us/step - loss: 0.6637 - val_loss: 0.7706\n",
      "Epoch 7/20\n",
      "72601/72601 [==============================] - 39s 530us/step - loss: 0.6486 - val_loss: 0.7733\n",
      "Epoch 8/20\n",
      "72601/72601 [==============================] - 39s 533us/step - loss: 0.6299 - val_loss: 0.7710\n",
      "Epoch 9/20\n",
      "72601/72601 [==============================] - 38s 529us/step - loss: 0.6235 - val_loss: 0.7671\n",
      "Epoch 10/20\n",
      "72601/72601 [==============================] - 37s 508us/step - loss: 0.6133 - val_loss: 0.7787\n",
      "Epoch 11/20\n",
      "72601/72601 [==============================] - 36s 490us/step - loss: 0.6073 - val_loss: 0.7679\n",
      "Epoch 12/20\n",
      "72601/72601 [==============================] - 36s 498us/step - loss: 0.6030 - val_loss: 0.7689\n",
      "Epoch 13/20\n",
      "72601/72601 [==============================] - 36s 500us/step - loss: 0.5944 - val_loss: 0.7775\n",
      "Epoch 14/20\n",
      "72601/72601 [==============================] - 37s 510us/step - loss: 0.5899 - val_loss: 0.7677\n",
      "Epoch 15/20\n",
      "72601/72601 [==============================] - 36s 502us/step - loss: 0.5856 - val_loss: 0.7993\n",
      "Epoch 16/20\n",
      "72601/72601 [==============================] - 36s 490us/step - loss: 0.5795 - val_loss: 0.7769\n",
      "Epoch 17/20\n",
      "72601/72601 [==============================] - 37s 511us/step - loss: 0.5795 - val_loss: 0.7700\n",
      "Epoch 18/20\n",
      "72601/72601 [==============================] - 36s 495us/step - loss: 0.5772 - val_loss: 0.7767\n",
      "Epoch 19/20\n",
      "72601/72601 [==============================] - 35s 489us/step - loss: 0.5721 - val_loss: 0.7725\n",
      "Epoch 20/20\n",
      "72601/72601 [==============================] - 36s 491us/step - loss: 0.5682 - val_loss: 0.7766\n"
     ]
    }
   ],
   "source": [
    "history = model.fit([train.userId, train.movieId], train.rating, epochs=20, verbose=1, validation_split=0.1)"
   ]
  },
  {
   "cell_type": "code",
   "execution_count": 13,
   "metadata": {},
   "outputs": [
    {
     "name": "stdout",
     "output_type": "stream",
     "text": [
      "0.8806567962801158\n"
     ]
    }
   ],
   "source": [
    "rmse = sqrt(mean_squared_error(y_rating, model.predict([test.userId, test.movieId])))\n",
    "print(rmse)"
   ]
  },
  {
   "cell_type": "code",
   "execution_count": null,
   "metadata": {},
   "outputs": [],
   "source": []
  }
 ],
 "metadata": {
  "kernelspec": {
   "display_name": "Python 3",
   "language": "python",
   "name": "python3"
  },
  "language_info": {
   "codemirror_mode": {
    "name": "ipython",
    "version": 3
   },
   "file_extension": ".py",
   "mimetype": "text/x-python",
   "name": "python",
   "nbconvert_exporter": "python",
   "pygments_lexer": "ipython3",
   "version": "3.6.6"
  }
 },
 "nbformat": 4,
 "nbformat_minor": 2
}
